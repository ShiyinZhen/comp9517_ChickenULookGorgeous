{
 "cells": [
  {
   "cell_type": "code",
   "execution_count": 2,
   "id": "c28f8ab7-0198-4f7d-acbe-bead5d3f9a6c",
   "metadata": {},
   "outputs": [
    {
     "name": "stdout",
     "output_type": "stream",
     "text": [
      "在 ./WildScenes/WildScenes2d 路径下找到的文件夹:\n",
      "K-01\n",
      "K-03\n",
      "V-01\n",
      "V-02\n",
      "V-03\n"
     ]
    }
   ],
   "source": [
    "import os\n",
    "\n",
    "def list_folders(path):\n",
    "    folders = []\n",
    "    for entry in os.scandir(path):\n",
    "        if entry.is_dir():\n",
    "            folders.append(entry.name)\n",
    "    return folders\n",
    "\n",
    "path = './WildScenes/WildScenes2d'\n",
    "folders = list_folders(path)\n",
    "\n",
    "print(f\"在 {path} 路径下找到的文件夹:\")\n",
    "for folder in folders:\n",
    "    print(folder)"
   ]
  },
  {
   "cell_type": "code",
   "execution_count": 16,
   "id": "eb273dad-b2fe-4ff0-9096-4cf993f7c4ae",
   "metadata": {},
   "outputs": [
    {
     "name": "stdout",
     "output_type": "stream",
     "text": [
      "\n",
      " Shape: (1845,)\n"
     ]
    }
   ],
   "source": [
    "import numpy as np\n",
    "\n",
    "def list_images_to_numpy(path):\n",
    "    files = os.listdir(path)\n",
    "    \n",
    "    image_extensions = ('.jpg', '.jpeg', '.png', '.gif')\n",
    "    image_files = [f for f in files if f.lower().endswith(image_extensions)]\n",
    "    \n",
    "    # print(\"图片文件列表:\")\n",
    "    # for image in image_files:\n",
    "    #     print(image)\n",
    "    \n",
    "    image_array = np.array(image_files)\n",
    "    \n",
    "    return image_array\n",
    "\n",
    "# path = r'WildScenes\\WildScenes2d\\K-01\\image'\n",
    "# path = r'WildScenes\\WildScenes2d\\K-03\\image'\n",
    "# path = r'WildScenes\\WildScenes2d\\V-01\\image'\n",
    "# path = r'WildScenes\\WildScenes2d\\V-02\\image'\n",
    "path = r'WildScenes\\WildScenes2d\\V-03\\image'\n",
    "\n",
    "image_array = list_images_to_numpy(path)\n",
    "\n",
    "print(\"\\n Shape:\", image_array.shape)"
   ]
  },
  {
   "cell_type": "code",
   "execution_count": 18,
   "id": "f1be049a-23c6-423c-a268-42acb1823214",
   "metadata": {},
   "outputs": [
    {
     "name": "stdout",
     "output_type": "stream",
     "text": [
      "\n",
      " (1845,)\n",
      "\n",
      "索引: 553\n",
      "(553,)\n"
     ]
    }
   ],
   "source": [
    "import random\n",
    "\n",
    "def random_samples(image_path_list):\n",
    "    num_samples = int(len(image_path_list) * 0.3)\n",
    "\n",
    "    selected_indices = random.sample(range(len(image_path_list)), num_samples)\n",
    "\n",
    "    selected_images = image_path_list[selected_indices]\n",
    "    \n",
    "    # print(f\"\\n随机选择的 {num_samples} 张图片:\")\n",
    "    # for img in selected_images:\n",
    "    #     print(img)\n",
    "\n",
    "    # with open('k01.txt', 'w') as f:\n",
    "    # with open('k03.txt', 'w') as f:\n",
    "    # with open('v01.txt', 'w') as f:\n",
    "    # with open('v02.txt', 'w') as f:\n",
    "    with open('v03.txt', 'w') as f:\n",
    "        for index in selected_indices:\n",
    "            f.write(f\"{index}\\n\")\n",
    "    \n",
    "    return selected_indices, selected_images\n",
    "\n",
    "image_array = list_images_to_numpy(path)\n",
    "\n",
    "print(\"\\n\", image_array.shape)\n",
    "\n",
    "# 调用 random_samples 函数\n",
    "selected_indices, selected_images = random_samples(image_array)\n",
    "\n",
    "print(\"\\n索引:\", len(selected_indices))\n",
    "print(selected_images.shape)"
   ]
  },
  {
   "cell_type": "code",
   "execution_count": null,
   "id": "0e1a6bbf-ee5f-437a-8b8e-d1cee84519dc",
   "metadata": {},
   "outputs": [],
   "source": []
  }
 ],
 "metadata": {
  "kernelspec": {
   "display_name": "Python 3 (ipykernel)",
   "language": "python",
   "name": "python3"
  },
  "language_info": {
   "codemirror_mode": {
    "name": "ipython",
    "version": 3
   },
   "file_extension": ".py",
   "mimetype": "text/x-python",
   "name": "python",
   "nbconvert_exporter": "python",
   "pygments_lexer": "ipython3",
   "version": "3.11.7"
  }
 },
 "nbformat": 4,
 "nbformat_minor": 5
}
