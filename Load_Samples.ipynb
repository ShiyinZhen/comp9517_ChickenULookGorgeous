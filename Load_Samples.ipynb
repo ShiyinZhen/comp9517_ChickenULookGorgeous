{
 "cells": [
  {
   "cell_type": "code",
   "execution_count": 1,
   "id": "b76366c7-3517-4d12-a9bb-6bafff2b3089",
   "metadata": {},
   "outputs": [
    {
     "name": "stdout",
     "output_type": "stream",
     "text": [
      "从 ./k03.txt 读取了 1173 个索引\n",
      "已加载 1173 张图片\n",
      "图片数组形状: (1173, 1512, 2016, 3)\n",
      "数组类型: uint8\n",
      "数组维度: 4\n",
      "数组中第一张图片的形状: (1512, 2016, 3)\n"
     ]
    }
   ],
   "source": [
    "import os\n",
    "import numpy as np\n",
    "from PIL import Image\n",
    "\n",
    "def load_images_from_index(index_file, image_dir):\n",
    "    # Load index\n",
    "    with open(index_file, 'r') as f:\n",
    "        indices = [int(line.strip()) for line in f]\n",
    "    \n",
    "    print(f\"从 {index_file} 读取了 {len(indices)} 个索引\")\n",
    "\n",
    "    # Get a list of image files\n",
    "    image_files = sorted(os.listdir(image_dir))\n",
    "    \n",
    "    # Read the image by index and create a NumPy array\n",
    "    images = []\n",
    "    for idx in indices:\n",
    "        if idx < len(image_files):\n",
    "            img_path = os.path.join(image_dir, image_files[idx])\n",
    "            img = Image.open(img_path)\n",
    "            img_array = np.array(img)\n",
    "            images.append(img_array)\n",
    "        else:\n",
    "            print(f\"警告: 索引 {idx} 超出范围，已跳过\")\n",
    "    \n",
    "    images_array = np.array(images)\n",
    "    \n",
    "    print(f\"已加载 {len(images)} 张图片\")\n",
    "    print(f\"图片数组形状: {images_array.shape}\")\n",
    "    \n",
    "    return images_array\n",
    "\n",
    "# index_file = './k01.txt'\n",
    "index_file = './k03.txt'\n",
    "# image_dir = r'./WildScenes/WildScenes2d/K-01/image'\n",
    "image_dir = r'./WildScenes/WildScenes2d/K-03/image'\n",
    "\n",
    "result_array = load_images_from_index(index_file, image_dir)\n",
    "\n",
    "print(f\"数组类型: {result_array.dtype}\")\n",
    "print(f\"数组维度: {result_array.ndim}\")\n",
    "print(f\"数组中第一张图片的形状: {result_array[0].shape}\")"
   ]
  },
  {
   "cell_type": "code",
   "execution_count": null,
   "id": "be9cd2d4-88ea-497f-aaf8-73bef266c8a6",
   "metadata": {},
   "outputs": [],
   "source": []
  }
 ],
 "metadata": {
  "kernelspec": {
   "display_name": "Python 3 (ipykernel)",
   "language": "python",
   "name": "python3"
  },
  "language_info": {
   "codemirror_mode": {
    "name": "ipython",
    "version": 3
   },
   "file_extension": ".py",
   "mimetype": "text/x-python",
   "name": "python",
   "nbconvert_exporter": "python",
   "pygments_lexer": "ipython3",
   "version": "3.11.7"
  }
 },
 "nbformat": 4,
 "nbformat_minor": 5
}
